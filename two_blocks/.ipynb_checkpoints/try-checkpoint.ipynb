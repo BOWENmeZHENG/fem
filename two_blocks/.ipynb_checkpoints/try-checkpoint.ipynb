{
 "cells": [
  {
   "cell_type": "code",
   "execution_count": 1,
   "metadata": {},
   "outputs": [],
   "source": [
    "import pygmsh\n",
    "import matplotlib.pyplot as plt\n",
    "from solidspy import solids_GUI "
   ]
  },
  {
   "cell_type": "markdown",
   "metadata": {},
   "source": [
    "# Generate mesh"
   ]
  },
  {
   "cell_type": "code",
   "execution_count": 2,
   "metadata": {},
   "outputs": [
    {
     "ename": "RuntimeError",
     "evalue": "Empty intersection.",
     "output_type": "error",
     "traceback": [
      "\u001b[0;31m---------------------------------------------------------------------------\u001b[0m",
      "\u001b[0;31mRuntimeError\u001b[0m                              Traceback (most recent call last)",
      "\u001b[0;32m<ipython-input-2-a6350d440385>\u001b[0m in \u001b[0;36m<module>\u001b[0;34m\u001b[0m\n\u001b[1;32m     18\u001b[0m         \u001b[0mmesh_size\u001b[0m\u001b[0;34m=\u001b[0m\u001b[0;36m0.1\u001b[0m\u001b[0;34m,\u001b[0m\u001b[0;34m\u001b[0m\u001b[0;34m\u001b[0m\u001b[0m\n\u001b[1;32m     19\u001b[0m     )]\n\u001b[0;32m---> 20\u001b[0;31m     \u001b[0mgeom\u001b[0m\u001b[0;34m.\u001b[0m\u001b[0mboolean_intersection\u001b[0m\u001b[0;34m(\u001b[0m\u001b[0mboxes\u001b[0m\u001b[0;34m)\u001b[0m\u001b[0;34m\u001b[0m\u001b[0;34m\u001b[0m\u001b[0m\n\u001b[0m\u001b[1;32m     21\u001b[0m     \u001b[0mmesh\u001b[0m \u001b[0;34m=\u001b[0m \u001b[0mgeom\u001b[0m\u001b[0;34m.\u001b[0m\u001b[0mgenerate_mesh\u001b[0m\u001b[0;34m(\u001b[0m\u001b[0;34m)\u001b[0m\u001b[0;34m\u001b[0m\u001b[0;34m\u001b[0m\u001b[0m\n\u001b[1;32m     22\u001b[0m \u001b[0mmesh_pts\u001b[0m \u001b[0;34m=\u001b[0m \u001b[0mmesh\u001b[0m\u001b[0;34m.\u001b[0m\u001b[0mpoints\u001b[0m\u001b[0;34m\u001b[0m\u001b[0;34m\u001b[0m\u001b[0m\n",
      "\u001b[0;32m~/anaconda3/lib/python3.7/site-packages/pygmsh/occ/geometry.py\u001b[0m in \u001b[0;36mboolean_intersection\u001b[0;34m(self, entities, delete_first, delete_other)\u001b[0m\n\u001b[1;32m    138\u001b[0m             )\n\u001b[1;32m    139\u001b[0m             \u001b[0;32mif\u001b[0m \u001b[0mlen\u001b[0m\u001b[0;34m(\u001b[0m\u001b[0mout\u001b[0m\u001b[0;34m)\u001b[0m \u001b[0;34m==\u001b[0m \u001b[0;36m0\u001b[0m\u001b[0;34m:\u001b[0m\u001b[0;34m\u001b[0m\u001b[0;34m\u001b[0m\u001b[0m\n\u001b[0;32m--> 140\u001b[0;31m                 \u001b[0;32mraise\u001b[0m \u001b[0mRuntimeError\u001b[0m\u001b[0;34m(\u001b[0m\u001b[0;34m\"Empty intersection.\"\u001b[0m\u001b[0;34m)\u001b[0m\u001b[0;34m\u001b[0m\u001b[0;34m\u001b[0m\u001b[0m\n\u001b[0m\u001b[1;32m    141\u001b[0m             \u001b[0;32mif\u001b[0m \u001b[0;32mnot\u001b[0m \u001b[0m_all_equal\u001b[0m\u001b[0;34m(\u001b[0m\u001b[0mout\u001b[0m\u001b[0;34m)\u001b[0m\u001b[0;34m:\u001b[0m\u001b[0;34m\u001b[0m\u001b[0;34m\u001b[0m\u001b[0m\n\u001b[1;32m    142\u001b[0m                 raise RuntimeError(\n",
      "\u001b[0;31mRuntimeError\u001b[0m: Empty intersection."
     ]
    }
   ],
   "source": [
    "with pygmsh.occ.Geometry() as geom:\n",
    "    boxes = [geom.add_polygon(\n",
    "        [\n",
    "            [0.0, 0.0],\n",
    "            [1.0, 0],\n",
    "            [1.0, 1.0],\n",
    "            [0.0, 1],\n",
    "        ],\n",
    "        mesh_size=0.1,\n",
    "    ),\n",
    "    geom.add_polygon(\n",
    "        [\n",
    "            [0.0, 1.0],\n",
    "            [1.0, 1.0],\n",
    "            [1.0, 2.0],\n",
    "            [0.0, 2.0],\n",
    "        ],\n",
    "        mesh_size=0.1,\n",
    "    )]\n",
    "    geom.boolean_union(boxes)\n",
    "    mesh = geom.generate_mesh()\n",
    "mesh_pts = mesh.points"
   ]
  },
  {
   "cell_type": "markdown",
   "metadata": {},
   "source": [
    "# Write input files"
   ]
  },
  {
   "cell_type": "markdown",
   "metadata": {},
   "source": [
    "## 1. Write nodes.txt\n",
    "- Column 0: Nodal identifier (integer).\n",
    "- Column 1: x-coordinate (float).\n",
    "- Column 2: y-coordinate (float).\n",
    "- Column 3: Boundary condition flag along the x-direction (0 free, -1 restrained).\n",
    "- Column 4: Boundary condition flag along the y-direction (0 free, -1 restrained).\n",
    "\n",
    "```\n",
    "0  0.00  0.00   0  -1\n",
    "1  2.00  0.00   0  -1\n",
    "2  2.00  2.00   0   0\n",
    "3  0.00  2.00   0   0\n",
    "4  1.00  0.00  -1  -1\n",
    "5  2.00  1.00   0   0\n",
    "6  1.00  2.00   0   0\n",
    "7  0.00  1.00   0   0\n",
    "8  1.00  1.00   0   0\n",
    "```"
   ]
  },
  {
   "cell_type": "code",
   "execution_count": null,
   "metadata": {},
   "outputs": [],
   "source": [
    "# fix bottom\n",
    "with open('nodes.txt', 'w') as f_nodes:\n",
    "    for i, point in enumerate(mesh_pts):\n",
    "        if point[1] == min(mesh_pts[:, 1]):\n",
    "            bc_x, bc_y = -1, -1\n",
    "        else:\n",
    "            bc_x, bc_y = 0, 0\n",
    "        f_nodes.write(f\"{i:4} {point[0]:8.4f} {point[1]:8.4f}  {bc_x:4}  {bc_y:4} \\n\")"
   ]
  },
  {
   "cell_type": "markdown",
   "metadata": {},
   "source": [
    "## 2. Write eles.txt\n",
    "- Column 0: Element identifier (integer).\n",
    "- Column 1: Element type (integer):\n",
    "    - 1 for a 4-noded quadrilateral.\n",
    "    - 2 for a 6-noded triangle.\n",
    "    - 3 for a 3-noded triangle.\n",
    "- Column 2: Material profile for the current element (integer).\n",
    "- Column 3 to end: Element connectivity, this is a list of the nodes conforming each element. The nodes should be listed in **counterclockwise** orientation.\n",
    "\n",
    "```\n",
    "0   1   0   0   4   8   7\n",
    "1   1   0   4   1   5   8\n",
    "2   1   0   7   8   6   3\n",
    "3   1   0   8   5   2   6\n",
    "```"
   ]
  },
  {
   "cell_type": "code",
   "execution_count": null,
   "metadata": {},
   "outputs": [],
   "source": [
    "elements = mesh.cells_dict['triangle']\n",
    "with open('eles.txt', 'w') as f_eles:\n",
    "    for i, element in enumerate(elements):\n",
    "        f_eles.write(f\"{i:4}   3   0  {element[0]:4} {element[1]:4}  {element[2]:4} \\n\")"
   ]
  },
  {
   "cell_type": "markdown",
   "metadata": {},
   "source": [
    "## 3. mater.txt\n",
    "- Column 0: Young’s modulus for the current profile (float).\n",
    "- Column 1: Poisson’s ratio for the current profile (float).\n",
    "```\n",
    "1.0  0.3\n",
    "```"
   ]
  },
  {
   "cell_type": "code",
   "execution_count": null,
   "metadata": {},
   "outputs": [],
   "source": [
    "E = 1.0\n",
    "nu = 0.3\n",
    "with open('mater.txt', 'w') as f_mater:\n",
    "    f_mater.write(f\"{E:8.4f} {nu:8.4f}\")"
   ]
  },
  {
   "cell_type": "markdown",
   "metadata": {},
   "source": [
    "## 4. loads.txt\n",
    "- Column 0: Nodal identifier (integer).\n",
    "- Column 1: Load magnitude for the current node along the x-direction (float).\n",
    "- Column 2: Load magnitude for the current node along the y-direction (float).\n",
    "```\n",
    "3  0.0  1.0\n",
    "6  0.0  2.0\n",
    "2  0.0  1.0\n",
    "```"
   ]
  },
  {
   "cell_type": "code",
   "execution_count": null,
   "metadata": {},
   "outputs": [],
   "source": [
    "# load top\n",
    "load = -2.0\n",
    "with open('loads.txt', 'w') as f_loads:\n",
    "    for i, point in enumerate(mesh_pts):\n",
    "        if point[1] == max(mesh_pts[:, 1]):\n",
    "            f_loads.write(f\"{i:4} {0.0:8.4f} {load:8.4f} \\n\")"
   ]
  },
  {
   "cell_type": "markdown",
   "metadata": {},
   "source": [
    "# Run FE simulation"
   ]
  },
  {
   "cell_type": "code",
   "execution_count": null,
   "metadata": {},
   "outputs": [],
   "source": [
    "disp = solids_GUI()  # run the Finite Element Analysis\n",
    "plt.show()    # plot contours"
   ]
  },
  {
   "cell_type": "code",
   "execution_count": null,
   "metadata": {},
   "outputs": [],
   "source": []
  }
 ],
 "metadata": {
  "kernelspec": {
   "display_name": "Python 3",
   "language": "python",
   "name": "python3"
  },
  "language_info": {
   "codemirror_mode": {
    "name": "ipython",
    "version": 3
   },
   "file_extension": ".py",
   "mimetype": "text/x-python",
   "name": "python",
   "nbconvert_exporter": "python",
   "pygments_lexer": "ipython3",
   "version": "3.7.4"
  }
 },
 "nbformat": 4,
 "nbformat_minor": 2
}
