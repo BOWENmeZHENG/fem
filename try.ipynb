{
 "cells": [
  {
   "cell_type": "code",
   "execution_count": 1,
   "metadata": {},
   "outputs": [],
   "source": [
    "import pygmsh\n",
    "import matplotlib.pyplot as plt\n",
    "from solidspy import solids_GUI "
   ]
  },
  {
   "cell_type": "markdown",
   "metadata": {},
   "source": [
    "# Generate mesh"
   ]
  },
  {
   "cell_type": "code",
   "execution_count": 2,
   "metadata": {},
   "outputs": [],
   "source": [
    "with pygmsh.geo.Geometry() as geom:\n",
    "    geom.add_polygon(\n",
    "        [\n",
    "            [0.0, 0.0],\n",
    "            [1.0, 0],\n",
    "            [1.0, 1.0],\n",
    "            [0.0, 1],\n",
    "        ],\n",
    "        mesh_size=0.05,\n",
    "    )\n",
    "    mesh = geom.generate_mesh()\n",
    "mesh_pts = mesh.points"
   ]
  },
  {
   "cell_type": "markdown",
   "metadata": {},
   "source": [
    "# Write input files"
   ]
  },
  {
   "cell_type": "markdown",
   "metadata": {},
   "source": [
    "## 1. Write nodes.txt\n",
    "- Column 0: Nodal identifier (integer).\n",
    "- Column 1: x-coordinate (float).\n",
    "- Column 2: y-coordinate (float).\n",
    "- Column 3: Boundary condition flag along the x-direction (0 free, -1 restrained).\n",
    "- Column 4: Boundary condition flag along the y-direction (0 free, -1 restrained).\n",
    "\n",
    "```\n",
    "0  0.00  0.00   0  -1\n",
    "1  2.00  0.00   0  -1\n",
    "2  2.00  2.00   0   0\n",
    "3  0.00  2.00   0   0\n",
    "4  1.00  0.00  -1  -1\n",
    "5  2.00  1.00   0   0\n",
    "6  1.00  2.00   0   0\n",
    "7  0.00  1.00   0   0\n",
    "8  1.00  1.00   0   0\n",
    "```"
   ]
  },
  {
   "cell_type": "code",
   "execution_count": 3,
   "metadata": {},
   "outputs": [],
   "source": [
    "# fix bottom\n",
    "with open('nodes.txt', 'w') as f_nodes:\n",
    "    for i, point in enumerate(mesh_pts):\n",
    "        if point[1] == min(mesh_pts[:, 1]):\n",
    "            bc_x, bc_y = -1, -1\n",
    "        else:\n",
    "            bc_x, bc_y = 0, 0\n",
    "        f_nodes.write(f\"{i:4} {point[0]:8.4f} {point[1]:8.4f}  {bc_x:4}  {bc_y:4} \\n\")"
   ]
  },
  {
   "cell_type": "markdown",
   "metadata": {},
   "source": [
    "## 2. Write eles.txt\n",
    "- Column 0: Element identifier (integer).\n",
    "- Column 1: Element type (integer):\n",
    "    - 1 for a 4-noded quadrilateral.\n",
    "    - 2 for a 6-noded triangle.\n",
    "    - 3 for a 3-noded triangle.\n",
    "- Column 2: Material profile for the current element (integer).\n",
    "- Column 3 to end: Element connectivity, this is a list of the nodes conforming each element. The nodes should be listed in **counterclockwise** orientation.\n",
    "\n",
    "```\n",
    "0   1   0   0   4   8   7\n",
    "1   1   0   4   1   5   8\n",
    "2   1   0   7   8   6   3\n",
    "3   1   0   8   5   2   6\n",
    "```"
   ]
  },
  {
   "cell_type": "code",
   "execution_count": 4,
   "metadata": {},
   "outputs": [],
   "source": [
    "elements = mesh.cells_dict['triangle']\n",
    "with open('eles.txt', 'w') as f_eles:\n",
    "    for i, element in enumerate(elements):\n",
    "        f_eles.write(f\"{i:4}   3   0  {element[0]:4} {element[1]:4}  {element[2]:4} \\n\")"
   ]
  },
  {
   "cell_type": "markdown",
   "metadata": {},
   "source": [
    "## 3. mater.txt\n",
    "- Column 0: Young’s modulus for the current profile (float).\n",
    "- Column 1: Poisson’s ratio for the current profile (float).\n",
    "```\n",
    "1.0  0.3\n",
    "```"
   ]
  },
  {
   "cell_type": "code",
   "execution_count": 5,
   "metadata": {},
   "outputs": [],
   "source": [
    "E = 1.0\n",
    "nu = 0.3\n",
    "with open('mater.txt', 'w') as f_mater:\n",
    "    f_mater.write(f\"{E:8.4f} {nu:8.4f}\")"
   ]
  },
  {
   "cell_type": "markdown",
   "metadata": {},
   "source": [
    "## 4. loads.txt\n",
    "- Column 0: Nodal identifier (integer).\n",
    "- Column 1: Load magnitude for the current node along the x-direction (float).\n",
    "- Column 2: Load magnitude for the current node along the y-direction (float).\n",
    "```\n",
    "3  0.0  1.0\n",
    "6  0.0  2.0\n",
    "2  0.0  1.0\n",
    "```"
   ]
  },
  {
   "cell_type": "code",
   "execution_count": 6,
   "metadata": {},
   "outputs": [],
   "source": [
    "# load top\n",
    "load = -2.0\n",
    "with open('loads.txt', 'w') as f_loads:\n",
    "    for i, point in enumerate(mesh_pts):\n",
    "        if point[1] == max(mesh_pts[:, 1]):\n",
    "            f_loads.write(f\"{i:4} {0.0:8.4f} {load:8.4f} \\n\")"
   ]
  },
  {
   "cell_type": "markdown",
   "metadata": {},
   "source": [
    "# Run FE simulation"
   ]
  },
  {
   "cell_type": "code",
   "execution_count": 7,
   "metadata": {},
   "outputs": [
    {
     "name": "stdout",
     "output_type": "stream",
     "text": [
      "Number of nodes: 513\n",
      "Number of elements: 944\n",
      "Number of equations: 984\n",
      "Duration for system solution: 0:00:00.254826\n",
      "Duration for post processing: 0:00:00.060574\n",
      "Analysis terminated successfully!\n"
     ]
    },
    {
     "name": "stderr",
     "output_type": "stream",
     "text": [
      "/home/bowen/anaconda3/lib/python3.7/site-packages/solidspy/postprocesor.py:108: UserWarning: The following kwargs were not used by contour: 'shading'\n",
      "  disp_plot(tri, field, levels, shading=\"gouraud\")\n"
     ]
    },
    {
     "data": {
      "image/png": "[encoded data removed]",
      "text/plain": [
       "<Figure size 432x288 with 2 Axes>"
      ]
     },
     "metadata": {
      "needs_background": "light"
     },
     "output_type": "display_data"
    },
    {
     "data": {
      "image/png": "[encoded data removed]",
      "text/plain": [
       "<Figure size 432x288 with 2 Axes>"
      ]
     },
     "metadata": {
      "needs_background": "light"
     },
     "output_type": "display_data"
    }
   ],
   "source": [
    "disp = solids_GUI()  # run the Finite Element Analysis\n",
    "plt.show()    # plot contours"
   ]
  },
  {
   "cell_type": "code",
   "execution_count": null,
   "metadata": {},
   "outputs": [],
   "source": []
  }
 ],
 "metadata": {
  "kernelspec": {
   "display_name": "Python 3",
   "language": "python",
   "name": "python3"
  },
  "language_info": {
   "codemirror_mode": {
    "name": "ipython",
    "version": 3
   },
   "file_extension": ".py",
   "mimetype": "text/x-python",
   "name": "python",
   "nbconvert_exporter": "python",
   "pygments_lexer": "ipython3",
   "version": "3.7.4"
  }
 },
 "nbformat": 4,
 "nbformat_minor": 2
}
